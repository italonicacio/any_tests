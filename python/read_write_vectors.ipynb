{
 "cells": [
  {
   "cell_type": "code",
   "execution_count": 1,
   "metadata": {},
   "outputs": [],
   "source": [
    "import numpy as np\n",
    "\n",
    "def WriteVectorsFile(filename, N, *args):\n",
    "    #Abre o arquivo e no modo de escrita, ai é possivel salvar\n",
    "    f = open(filename, 'w')\n",
    "\n",
    "    for i in range(0, N):\n",
    "        for j in range(0, len(args)):\n",
    "            # %s é uma referencia a C, o printf de C utiliza o %s para strings\n",
    "\n",
    "            f.write('%s ' %(args[j][i]))\n",
    "\n",
    "        f.write('\\n')\n",
    "\n",
    "    # Fecha o arquivo\n",
    "    f.close()\n",
    "\n",
    "def ReadVectorsFile(filename):\n",
    "\n",
    "    # loadtxt retornar os vetores em uma matriz de N x M, onde n é o tamanho dos vetores e M é o número de vetores\n",
    "    aux = np.loadtxt(filename)\n",
    "\n",
    "    return aux"
   ]
  },
  {
   "cell_type": "code",
   "execution_count": 2,
   "metadata": {},
   "outputs": [],
   "source": [
    "filename = 'test.txt'\n",
    "\n",
    "v1 = [5, 4, 3]\n",
    "v2 = [2, 4, 6]\n",
    "v3 = [3, 6, 9]\n",
    "v4 = [1, 5, 7]\n",
    "\n",
    "WriteVectorsFile(filename, len(v1), v1, v2, v3, v4)"
   ]
  },
  {
   "cell_type": "code",
   "execution_count": 6,
   "metadata": {},
   "outputs": [
    {
     "name": "stdout",
     "output_type": "stream",
     "text": [
      "[[5. 2. 3. 1.]\n",
      " [4. 4. 6. 5.]\n",
      " [3. 6. 9. 7.]]\n",
      "[5. 4. 3.]\n",
      "[5. 4. 3.]\n"
     ]
    }
   ],
   "source": [
    "\n",
    "m = ReadVectorsFile(filename)\n",
    "\n",
    "print(m)\n",
    "\n",
    "# m[:, 0] acessa a primeira coluna da matriz que é o primeiro vetor\n",
    "print(m[:, 0])\n",
    "\n",
    "#ou pode transpor a matriz m e acessar dessa forma\n",
    "mt = np.transpose(m)\n",
    "print(mt[0])"
   ]
  }
 ],
 "metadata": {
  "interpreter": {
   "hash": "31f2aee4e71d21fbe5cf8b01ff0e069b9275f58929596ceb00d14d90e3e16cd6"
  },
  "kernelspec": {
   "display_name": "Python 3.8.5 64-bit",
   "language": "python",
   "name": "python3"
  },
  "language_info": {
   "codemirror_mode": {
    "name": "ipython",
    "version": 3
   },
   "file_extension": ".py",
   "mimetype": "text/x-python",
   "name": "python",
   "nbconvert_exporter": "python",
   "pygments_lexer": "ipython3",
   "version": "3.8.5"
  },
  "orig_nbformat": 4
 },
 "nbformat": 4,
 "nbformat_minor": 2
}
