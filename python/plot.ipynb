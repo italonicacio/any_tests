{
 "cells": [
  {
   "cell_type": "code",
   "execution_count": 3,
   "metadata": {},
   "outputs": [],
   "source": [
    "from numpy import *\n",
    "import pylab as p\n",
    "import mpl_toolkits.mplot3d.axes3d as p3\n",
    "import matplotlib.pyplot as plt\n",
    "\n",
    "delta = 0.1\n",
    "# u e v são variaveis parametricas\n",
    "# u is an array from 0 to 2*pi, with 100 elements\n",
    "# u é um array de 0 até 2*pi com 100 elementos\n",
    "u=r_[0:2*pi:100j]\n",
    "\n",
    "# v é um array de 0 até pi com 100 elementos\n",
    "v=r_[0:pi:100j]\n",
    "\n",
    "# x, y, e z são coordenadas para plotagem\n",
    "# cada um é organizado em matrizes de 100x100\n",
    "x = 8*outer(abs(cos(u)), abs(sin(v)))\n",
    "y = 8*outer(abs(sin(u)), abs(sin(v)))\n",
    "z = 8*outer(ones(size(u)), abs(cos(v)))\n",
    "\n",
    "\n"
   ]
  },
  {
   "cell_type": "code",
   "execution_count": 15,
   "metadata": {},
   "outputs": [
    {
     "data": {
      "image/png": "[encoded data removed]",
      "text/plain": [
       "<Figure size 432x288 with 1 Axes>"
      ]
     },
     "metadata": {
      "needs_background": "light"
     },
     "output_type": "display_data"
    }
   ],
   "source": [
    "fig=p.figure()\n",
    "ax = p3.Axes3D(fig)\n",
    "\n",
    "# Utilizado para as linhas de contornos\n",
    "ax.contour3D(x,y,z)\n",
    "\n",
    "#Retira o plano de fundo dos eixos\n",
    "ax.set_axis_off()\n",
    "\n",
    "#É utilizado para mudam o ponto de vista da imagem\n",
    "ax.view_init(elev=10., azim=85.0)\n",
    "\n",
    "\n",
    "plt.show()"
   ]
  }
 ],
 "metadata": {
  "interpreter": {
   "hash": "31f2aee4e71d21fbe5cf8b01ff0e069b9275f58929596ceb00d14d90e3e16cd6"
  },
  "kernelspec": {
   "display_name": "Python 3.8.5 64-bit",
   "language": "python",
   "name": "python3"
  },
  "language_info": {
   "codemirror_mode": {
    "name": "ipython",
    "version": 3
   },
   "file_extension": ".py",
   "mimetype": "text/x-python",
   "name": "python",
   "nbconvert_exporter": "python",
   "pygments_lexer": "ipython3",
   "version": "3.8.5"
  },
  "orig_nbformat": 4
 },
 "nbformat": 4,
 "nbformat_minor": 2
}
